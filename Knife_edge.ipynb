{
 "cells": [
  {
   "cell_type": "markdown",
   "id": "5fd8fea8-3fa6-4def-85c8-8a0d0acc7c45",
   "metadata": {},
   "source": [
    "# Kinfe Edge Scan Notebook"
   ]
  },
  {
   "cell_type": "code",
   "execution_count": null,
   "id": "b42a89b6-6a7b-4297-aa8a-bba44fd0c40b",
   "metadata": {},
   "outputs": [],
   "source": [
    "# Import python libs and utils.py\n",
    "import numpy as np \n",
    "import h5py\n",
    "import matplotlib.pyplot as plt\n",
    "import scipy.io\n",
    "from scipy.signal import savgol_filter, medfilt\n",
    "from scipy.optimize import curve_fit\n",
    "from scipy import special\n",
    "import os\n",
    "import re\n",
    "from utils import *"
   ]
  },
  {
   "cell_type": "markdown",
   "id": "8c0f7547-2273-4b2f-afd5-8d2802b1426e",
   "metadata": {},
   "source": [
    "### Load the data in"
   ]
  },
  {
   "cell_type": "code",
   "execution_count": null,
   "id": "e86384a6-c4eb-4286-9dd1-539c5d821990",
   "metadata": {},
   "outputs": [],
   "source": [
    "###############################################\n",
    "runNumbers = []  # enter the run numbers to be loaded\n",
    "folder = '/sdf/data/lcls/ds/cxi/EXPERIMENT/hdf5/smalldata/' # insert here the directory path where .h5 files are stored\n",
    "scanType = 'x' # x or y\n",
    "###############################################\n",
    "# (1) keys_to_combine: some keys loaded for each shot & stored per shot \n",
    "# (2) keys_to_sum: some keys loaded per each run and added \n",
    "# (3) keys_to_check : check if some keys exits and have same values in all runs and load these keys \n",
    "keys_to_combine = ['ipm_dg2/sum',\n",
    "                   # 'ipm_dg3/sum',\n",
    "                   # 'ipm_hfx_dg2/sum',\n",
    "                   'scan/pinhole_x',\n",
    "                   'scan/pinhole_y',\n",
    "                   # 'alvium_u1/laser_com',\n",
    "                   # 'alvium_u1/laser_sum',\n",
    "                   # 'Acqiris/FastTiming_area',\n",
    "                   # 'Acqiris/Laser_area',\n",
    "                   'qadc0/full_area',\n",
    "                   'qadc1/full_area',\n",
    "                   'lightStatus/laser',\n",
    "                   'lightStatus/xray']\n",
    "keys_to_sum = [] # None here\n",
    "keys_to_check = [] # None here\n",
    "# Load the data in\n",
    "data = combineRuns(runNumbers, folder, keys_to_combine, keys_to_sum, keys_to_check, verbose=False)  # this is the function to load the data with defined keys\n",
    "# Bounds for the analysis.\n",
    "qadc0_low = 4650\n",
    "qadc0_high = 6200\n",
    "qadc1_low = 5050\n",
    "qadc1_high = 5400\n",
    "\n",
    "qadc0_full_area = data['qadc0/full_area']  # diode signal for laser upsteam\n",
    "qadc1_full_area = data['qadc1/full_area'] # diode signal for laser after IP\n",
    "# Cropping the data\n",
    "qadc0_cropped = qadc0_full_area[:, qadc0_low:qadc0_high]\n",
    "qadc1_cropped = qadc1_full_area[:, qadc1_low:qadc1_high]\n",
    "# Calculate the sums for each event\n",
    "qadc0_sum_per_event = qadc0_cropped.sum(axis=1)\n",
    "qadc1_sum_per_event = qadc1_cropped.sum(axis=1)\n",
    "# Calculate the ratio QADC1 / QADC0 for each event\n",
    "qadc_ratio = qadc1_sum_per_event / qadc0_sum_per_event\n",
    "\n",
    "# Picking data from the scan type\n",
    "if scanType == 'x':\n",
    "    pinhole = data['scan/pinhole_x']\n",
    "    else:\n",
    "    pinhole = data['scan/pinhole_y']\n",
    "\n",
    "# Aggregate data by unique `pinhole` values\n",
    "unique_pinhole = np.unique(pinhole)\n",
    "mean_qadc_ratio = []\n",
    "std_qadc_ratio = []\n",
    "\n",
    "# Here we loop through all the positions and create the final data\n",
    "for value in unique_pinhole:\n",
    "    mask = pinhole == value\n",
    "    qadc_ratio_values = qadc_ratio[mask]\n",
    "    mean_qadc_ratio.append(np.mean(qadc_ratio_values))\n",
    "    std_qadc_ratio.append(np.std(qadc_ratio_values))\n",
    "\n",
    "mean_qadc_ratio = np.array(mean_qadc_ratio)\n",
    "std_qadc_ratio = np.array(std_qadc_ratio)\n",
    "\n",
    "laserOn = data['lightStatus/laser'].astype(bool)  # laser on events\n",
    "xrayOn = data['lightStatus/xray'].astype(bool)  # xray on events\n",
    "\n",
    "run_indicator = data['run_indicator'] # run indicator for each shot\n",
    "\n",
    "#UV_com = data['alvium_u1/laser_com']  # center of mass for laser (pump) pointing\n",
    "#UV_sum = data['alvium_u1/laser_sum']   # intensity sum for laser (pump) pointing\n",
    "\n",
    "dg2 = data['ipm_dg2/sum']   # upstream diode x-ray intensity\n",
    "#dg3 = data['ipm_dg3/sum']    # downstream diode x-ray intensity"
   ]
  },
  {
   "cell_type": "markdown",
   "id": "f1a21f8a-dce7-42e3-80bf-28b4930300e5",
   "metadata": {},
   "source": [
    "# Fit the data with error function to get Full width at half maximum (FWHM)"
   ]
  },
  {
   "cell_type": "code",
   "execution_count": 46,
   "id": "5046851b-8315-4028-8bb9-7b8cd6561c59",
   "metadata": {},
   "outputs": [
    {
     "data": {
      "image/png": "[encoded data removed]",
      "text/plain": [
       "<Figure size 600x500 with 1 Axes>"
      ]
     },
     "metadata": {},
     "output_type": "display_data"
    },
    {
     "name": "stdout",
     "output_type": "stream",
     "text": [
      "Fitted Parameters:\n",
      "width = 0.05105545752030906\n"
     ]
    }
   ],
   "source": [
    "# fit the data! -- Baxter\n",
    "def custom_erf(x, a, sigma, mu, b):\n",
    "    return a*(special.erf((x - mu) / (np.sqrt(2) * sigma))) + b\n",
    "# Getting the final data which we will fit the error function to\n",
    "x_data = unique_pinhole\n",
    "y_data = mean_qadc_ratio / np.max(mean_qadc_ratio) # Percent calculation\n",
    "\n",
    "# Fit the function to the data\n",
    "popt, pcov = curve_fit(custom_erf,x_data, y_data,p0=(1, 0.1,np.median(unique_pinhole),-0.1))\n",
    "\n",
    "# Generate fitted data to compare\n",
    "y_fit = custom_erf(x_data, *popt)\n",
    "\n",
    "# Plot the original data and the fitted curve\n",
    "plt.figure(figsize=(6, 5))\n",
    "plt.scatter(x_data, y_data, label='Data', s=15)\n",
    "plt.plot(x_data, y_fit, label=f'Fitted irf ={popt[1]*2.355*1000:.2f} um (FWHM)', color='red')\n",
    "plt.xlabel('X')\n",
    "plt.ylabel('Y')\n",
    "plt.title(f'Knife edge pinhole {scanType} for run {runNumbers[0]}')\n",
    "plt.legend()\n",
    "# plt.grid()\n",
    "plt.show()\n",
    "\n",
    "# Print the fitted parameters\n",
    "print(\"Fitted Parameters:\")\n",
    "# print(f\"x0: {x0_fit:.3f}, w: {w_fit:.3f}, a: {a_fit:.3f}, b: {b_fit:.3f}, min: {min_fit:.3f}, max: {max_fit:.3f}, c: {c_fit:.3f}\")\n",
    "print(f'width = {popt[1] * 2.355}')\n"
   ]
  }
 ],
 "metadata": {
  "kernelspec": {
   "display_name": "Python 3 (ipykernel)",
   "language": "python",
   "name": "python3"
  },
  "language_info": {
   "codemirror_mode": {
    "name": "ipython",
    "version": 3
   },
   "file_extension": ".py",
   "mimetype": "text/x-python",
   "name": "python",
   "nbconvert_exporter": "python",
   "pygments_lexer": "ipython3",
   "version": "3.9.20"
  }
 },
 "nbformat": 4,
 "nbformat_minor": 5
}
