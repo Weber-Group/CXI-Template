{
 "cells": [
  {
   "cell_type": "markdown",
   "id": "24ef8696-ff5d-4074-81f5-b24d2f0e1507",
   "metadata": {},
   "source": [
    "# Geometry calibration notebook.\n",
    "## Use this after ADU_Thresh notebook and setting proper ADU threshes for the azav and the the Jungfrau Sum. "
   ]
  },
  {
   "cell_type": "code",
   "execution_count": null,
   "id": "cc19a8d7-6814-414e-b626-4de5476802ce",
   "metadata": {},
   "outputs": [],
   "source": [
    "import numpy as np\n",
    "import matplotlib.pyplot as plt\n",
    "from scipy import ndimage as ndi\n",
    "from xrayscatteringtools.io import combineRuns, get_data_paths\n",
    "from xrayscatteringtools.utils import enable_underscore_cleanup, azimuthalBinning\n",
    "from xrayscatteringtools.plotting import plot_jungfrau\n",
    "from xrayscatteringtools.calib.geometry_calibration import run_geometry_calibration\n",
    "enable_underscore_cleanup()"
   ]
  },
  {
   "cell_type": "markdown",
   "id": "2ae025a3-acca-4e88-bc93-7d8e5ee9a3cc",
   "metadata": {},
   "source": [
    "### Importing data. Edit the run number, you may need to edit some of the keys. Usually is should work find so long as there is nothing special going on.\n",
    "The main key that we work with is the `'Sums/jungfrau4M_calib_threshADU'` key. You can define your own in the producer with the `sumAlgo` kwarg of `det.storeSum()` and appropriate kwargs to `det.processSums()`. The key takeway is that any number after `'threshADU'` will be a lower bound in ADU for thresholding."
   ]
  },
  {
   "cell_type": "code",
   "execution_count": null,
   "id": "2b295728-d655-4b71-8d02-f7e723670fc9",
   "metadata": {},
   "outputs": [],
   "source": [
    "###############################################\n",
    "runNumbers = []\n",
    "folders = get_data_paths(runNumbers) # Defaults to the info in config.yaml. You can overwrite this with strings, character arrays, or lists of either.\n",
    "###############################################\n",
    "# (1) keys_to_combine: some keys loaded for each shot & stored per shot \n",
    "# (2) keys_to_sum: some keys loaded per each run and added \n",
    "# (3) keys_to_check : check if some keys exits and have same values in all runs and load these keys \n",
    "_keys_to_combine = [\n",
    "    'ebeam/photon_energy',\n",
    "]\n",
    "_keys_to_sum = [\n",
    "    'Sums/jungfrau4M_calib_thresADU5', # <- This key may need to be changed to reflect the ADU threshold set in the producer\n",
    "    # 'Sums/jungfrau4M_calib_dg2low_threshADU5' # <- Any user-defined sums can go here too.\n",
    "]\n",
    "_keys_to_check = [\n",
    "    # 'UserDataCfg/jungfrau4M/azav_mask0__azav_mask0_userMask', # <- Any masks for different azav regions can go here. We will combine them in the notebook\n",
    "    # 'UserDataCfg/jungfrau4M/azav_mask1__azav_mask1_userMask',\n",
    "    'UserDataCfg/jungfrau4M/cmask', # <- Combined mask for this run stored in the datastream. Ususally a combination of a linemask and any pixel masks.\n",
    "    'UserDataCfg/jungfrau4M/x',\n",
    "    'UserDataCfg/jungfrau4M/y',\n",
    "]\n",
    "##### Load the data in #####\n",
    "_data = combineRuns(runNumbers, folders, _keys_to_combine, _keys_to_sum, _keys_to_check, verbose=False)  # this is the function to load the data with defined keys\n",
    "############################\n",
    "\n",
    "# userMaskFiltered = _data['UserDataCfg/jungfrau4M/azav_mask0__azav_mask0_userMask'].astype(bool) # User mask for this region\n",
    "# userMask = _data['UserDataCfg/jungfrau4M/azav_mask1__azav_mask1_userMask'].astype(bool) # User mask for this region\n",
    "jungfrau_sum = _data['Sums/jungfrau4M_calib_thresADU5']  # Total Jungfrau detector counts summed in a run\n",
    "x, y = _data['UserDataCfg/jungfrau4M/x'], _data['UserDataCfg/jungfrau4M/y'] # coordinates of Jungfrau detector pixels x,y in micron\n",
    "cmask = _data['UserDataCfg/jungfrau4M/cmask'].astype(bool) # Standard Calibration mask: Dark + Ped + Line\n",
    "xray_keV = _data['ebeam/photon_energy'] # x-ray energy energy in keV"
   ]
  },
  {
   "cell_type": "markdown",
   "id": "494567f0-99bf-46db-89be-6df743745697",
   "metadata": {},
   "source": [
    "## Now that the data is loaded, let's prep the mask.\n"
   ]
  },
  {
   "cell_type": "code",
   "execution_count": null,
   "id": "f2b50bb1-9c9f-4399-bd31-94fb346a1a6a",
   "metadata": {},
   "outputs": [],
   "source": [
    "############################\n",
    "mask = cmask # & usermask \n",
    "_binary_dilation_amount = 3\n",
    "############################\n",
    "# Preforming a binary opening to mask out groups of bad pixels together.\n",
    "if _binary_dilation_amount:\n",
    "    mask = ndi.binary_opening(mask, structure=np.ones((1, _binary_dilation_amount, _binary_dilation_amount), dtype=bool)) & mask\n",
    "plt.figure(figsize=[14,12])\n",
    "plt.subplot(2,2,1)\n",
    "plot_jungfrau(y,-x,cmask)\n",
    "plt.title('cmask')\n",
    "plt.subplot(2,2,2)\n",
    "plot_jungfrau(y,-x,mask)\n",
    "plt.title('Final Mask')\n",
    "plt.subplot(2,2,3)\n",
    "pcm = plot_jungfrau(y,-x,jungfrau_sum)\n",
    "plt.colorbar(pcm)\n",
    "plt.title('J4M Sum')\n",
    "plt.subplot(2,2,4)\n",
    "pcm = plot_jungfrau(y,-x,jungfrau_sum*mask)\n",
    "plt.colorbar(pcm)\n",
    "plt.title('Masked J4M Sum')\n",
    "plt.show()\n",
    "print(f'Percentage Masked (cmask): {np.sum(~cmask)/np.size(cmask):.2f}%')\n",
    "print(f'Percentage Masked (final ask): {np.sum(~mask)/np.size(mask):.2f}%')"
   ]
  },
  {
   "cell_type": "markdown",
   "id": "de6ce3fd-fcff-436b-979f-816ef01ed8e4",
   "metadata": {},
   "source": [
    "### One nice big plot to show the final image (masked) before geometry optimization"
   ]
  },
  {
   "cell_type": "code",
   "execution_count": null,
   "id": "6ce2acaa-7414-4d8d-b9e6-c869650045ed",
   "metadata": {},
   "outputs": [],
   "source": [
    "plt.figure(figsize=[18,14])\n",
    "_jungfrau_sum = np.copy(jungfrau_sum)\n",
    "_jungfrau_sum[~mask] = np.nan\n",
    "pcm = plot_jungfrau(y,-x,_jungfrau_sum)\n",
    "plt.colorbar(pcm)\n",
    "plt.title('Masked Jungfrau Sum (big)')\n",
    "plt.show()"
   ]
  },
  {
   "cell_type": "markdown",
   "id": "7deef883-8726-40f3-8cf9-57f8276f24cf",
   "metadata": {},
   "source": [
    "### Importing or loading the theory pattern to fit this data to.\n",
    "For data inside the xrayscatteringtools module, the docstring will contain more information about that pattern. `sf6?`"
   ]
  },
  {
   "cell_type": "code",
   "execution_count": null,
   "id": "d3e6af61-1111-4c7b-a644-3f86a9ed99ea",
   "metadata": {},
   "outputs": [],
   "source": [
    "###################################################\n",
    "from xrayscatteringtools.theory.patterns import sf6\n",
    "theory_q, theory_I_q = sf6.q, sf6.I_q\n",
    "###################################################\n",
    "plt.plot(theory_q,theory_I_q)\n",
    "plt.title('Theory Pattern')\n",
    "plt.xlabel(r'q ($\\AA^{-1}$)')\n",
    "plt.ylabel(r'I(q) ($e^2$)')\n",
    "plt.show()"
   ]
  },
  {
   "cell_type": "markdown",
   "id": "bb434830-a064-41e0-a75b-15483f2d8092",
   "metadata": {},
   "source": [
    "### Now to run the geometry calibration.\n",
    "`run_geometry_calibration()` Has many parameters which are not used here. Type `run_geometry_calibration?` for more information."
   ]
  },
  {
   "cell_type": "code",
   "execution_count": null,
   "id": "a7aa5430-1fb1-4d96-83b8-da2205c9d8b4",
   "metadata": {},
   "outputs": [],
   "source": [
    "##################################################\n",
    "keV = xray_keV\n",
    "# keV = 9.666 # Override for photon energy if needed\n",
    "##################################################\n",
    "fit, popt, pcov = run_geometry_calibration(\n",
    "    jungfrau_sum,\n",
    "    x,\n",
    "    y,\n",
    "    mask,\n",
    "    theory_q,\n",
    "    theory_I_q,\n",
    "    9.666)\n",
    "print(f'Converged Parameters: \\n amplitude: {popt[0]:.2f}\\n x0: {popt[1]:.2f}\\n y0: {popt[2]:.2f}\\n z0: {popt[3]:.2f}')"
   ]
  },
  {
   "cell_type": "markdown",
   "id": "6456d476-2ce7-4217-b927-87a241448089",
   "metadata": {},
   "source": [
    "## Taking a look at the resultant fit, comparing to theory."
   ]
  },
  {
   "cell_type": "code",
   "execution_count": null,
   "id": "a34a9ec2-00a7-4b4d-bc06-0804ea1e96ad",
   "metadata": {},
   "outputs": [],
   "source": [
    "# Setting up a dict for cleaner usage.\n",
    "_kwargs = {\n",
    "    'x': x,\n",
    "    'y': y,\n",
    "    'x0': popt[1],\n",
    "    'y0': popt[2],\n",
    "    'z0': popt[3],\n",
    "    'mask': ~mask,\n",
    "    'keV': keV,\n",
    "}\n",
    "q, azav_exp = azimuthalBinning(jungfrau_sum,**_kwargs)\n",
    "q, azav_fit = azimuthalBinning(fit,**_kwargs)\n",
    "with np.errstate(invalid='ignore'):\n",
    "    pdiff = 100*(azav_exp-azav_fit)/azav_fit\n",
    "plt.figure(figsize=[18,5])\n",
    "plt.subplot(1,3,1)\n",
    "plt.plot(q,azav_exp,label='Experiment')\n",
    "plt.plot(q,azav_fit,label='Fit')\n",
    "plt.legend()\n",
    "plt.title('Fitted Scattering Pattern')\n",
    "plt.xlabel(r'q ($\\AA^{-1}$)')\n",
    "plt.ylabel(r'I(q) ($e^2$)')\n",
    "plt.subplot(1,3,2)\n",
    "plt.plot(q,azav_exp*q,label='Experiment')\n",
    "plt.plot(q,azav_fit*q,label='Fit')\n",
    "plt.legend()\n",
    "plt.title('Fitted Scattering Pattern')\n",
    "plt.xlabel(r'q ($\\AA^{-1}$)')\n",
    "plt.ylabel(r'I(q)*q ($e^2 \\AA^{-1}$)')\n",
    "plt.subplot(1,3,3)\n",
    "plt.plot(q,pdiff)\n",
    "plt.title('Percent Difference')\n",
    "plt.ylabel('%')\n",
    "plt.xlabel(r'q ($\\AA^{-1}$)')\n",
    "plt.show()"
   ]
  },
  {
   "cell_type": "markdown",
   "id": "b6f68b3a-9302-46b8-b3e6-b88ce5996073",
   "metadata": {},
   "source": [
    "### Looking at the difference between the full images:"
   ]
  },
  {
   "cell_type": "code",
   "execution_count": null,
   "id": "fd9cd6b4-8a33-49cb-898c-c61b395b7d34",
   "metadata": {},
   "outputs": [],
   "source": [
    "#############\n",
    "_vlimsPdiff = 20\n",
    "#############\n",
    "pdiff_img = 100*(jungfrau_sum-fit)/fit\n",
    "pdiff_img[~mask] = np.nan\n",
    "plt.figure(figsize=[18,5])\n",
    "plt.subplot(1,3,1)\n",
    "_jungfrau_sum = np.copy(jungfrau_sum)\n",
    "_jungfrau_sum[~mask] = np.nan\n",
    "pcm = plot_jungfrau(y,-x,_jungfrau_sum)\n",
    "plt.colorbar(pcm)\n",
    "plt.title('Experiment')\n",
    "plt.subplot(1,3,2)\n",
    "_fit = np.copy(fit)\n",
    "_fit[~mask] = np.nan\n",
    "pcm = plot_jungfrau(y,-x,_fit)\n",
    "plt.colorbar(pcm)\n",
    "plt.title('Fit')\n",
    "plt.subplot(1,3,3)\n",
    "pcm=plot_jungfrau(y,-x,pdiff_img,vmin=-_vlimsPdiff,vmax=_vlimsPdiff,cmap='RdBu')\n",
    "plt.colorbar(pcm)\n",
    "plt.title('Percent Difference Image')\n",
    "plt.show()"
   ]
  },
  {
   "cell_type": "markdown",
   "id": "fb6193b5-dc6f-4cac-87c2-2101c6320c6d",
   "metadata": {},
   "source": [
    "### Remember, when pasting the x0, y0, and z0 parameters into the producer, the z0 parameters should be in mm, no micron. Below are the pasteable correct parameters:"
   ]
  },
  {
   "cell_type": "code",
   "execution_count": null,
   "id": "83a44092-2bc4-431d-b69f-a637603ec7aa",
   "metadata": {},
   "outputs": [],
   "source": [
    "print(f\"func_dict['center'] = [{popt[1]}, {popt[2]}]\")\n",
    "print(f\"func_dict['dis_to_sam'] = {popt[3]/1000}\")"
   ]
  }
 ],
 "metadata": {
  "kernelspec": {
   "display_name": "weber-group",
   "language": "python",
   "name": "weber_group"
  },
  "language_info": {
   "codemirror_mode": {
    "name": "ipython",
    "version": 3
   },
   "file_extension": ".py",
   "mimetype": "text/x-python",
   "name": "python",
   "nbconvert_exporter": "python",
   "pygments_lexer": "ipython3",
   "version": "3.9.20"
  }
 },
 "nbformat": 4,
 "nbformat_minor": 5
}
