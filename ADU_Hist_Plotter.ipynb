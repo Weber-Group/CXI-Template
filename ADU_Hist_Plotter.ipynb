{
 "cells": [
  {
   "cell_type": "markdown",
   "metadata": {},
   "source": [
    "# ADU Histogram Plotter\n",
    "This notebook will be useful for setting the ADU cutoff, especially when we are running gasses like Xe and Kr. Fluoresence may obscure any nonlinear effects as seen in LV04, so making sure we get this right at the beginning will be helpful. Modified from Ian. From past experience, it is not good to set an upper bound as it will cause a deviation from the theory at low q, since double photon per pixel events are more likely there than at large q. Also don't set the upper bound too high, since the inelastic signal will be at a range below the input photon energy. Usually a couple hundred eV. Use `xrayscatteringtools.theory.iam.iam_compton_spectrum` to get an idea of how far this spectrum extends downward.\n",
    "## First loading in modules, loading in config data from .yaml file."
   ]
  },
  {
   "cell_type": "code",
   "execution_count": null,
   "metadata": {},
   "outputs": [],
   "source": [
    "import numpy as np \n",
    "import matplotlib.pyplot as plt\n",
    "import psana\n",
    "import yaml\n",
    "with open('config.yaml') as f:\n",
    "    config = yaml.safe_load(f) # Load in configuration data"
   ]
  },
  {
   "cell_type": "markdown",
   "metadata": {},
   "source": [
    "## Using the psana library to make a datasource for the specific run"
   ]
  },
  {
   "cell_type": "code",
   "execution_count": null,
   "metadata": {},
   "outputs": [],
   "source": [
    "##########################\n",
    "runNumber = 15 # A single run number goes here.\n",
    "experiment = config['expNumber'] # Defaults to info in config.yaml\n",
    "##########################\n",
    "dsname = 'exp=%s:run=%d:smd' % (experiment , runNumber) \n",
    "ds = psana.DataSource(dsname)\n",
    "events = ds.events()"
   ]
  },
  {
   "cell_type": "markdown",
   "metadata": {},
   "source": [
    "## Setting up the J4M detector and pulling off images"
   ]
  },
  {
   "cell_type": "code",
   "execution_count": null,
   "metadata": {},
   "outputs": [],
   "source": [
    "###############\n",
    "n_images = 10 # Amount of images we want to pull from the run, \n",
    "###############\n",
    "images = np.zeros((8,512,1024,n_images)) # Preallocation of the image array\n",
    "jf = psana.Detector('jungfrau4M') # Grabbing the detector\n",
    "n_filled = 0 # init\n",
    "for i, evt in enumerate(ds.events()): # Loop for grabbing events\n",
    "    if n_filled==n_images: # Breaking out of the loop if we reach n_images\n",
    "        break\n",
    "    if i%10==0: # Status updates every 10 images\n",
    "        print(i)\n",
    "    images[:,:,:,n_filled] = jf.calib(evt) # Grabbing the image and adding it to the array\n",
    "    n_filled += 1 # Tick up after loop\n",
    "print(images.shape)\n",
    "hists,bins = np.histogram(images.flatten(),bins=np.linspace(0,100,200)) # Binning the flattened J4M images into the histogram variables"
   ]
  },
  {
   "cell_type": "markdown",
   "metadata": {},
   "source": [
    "## Plotting it"
   ]
  },
  {
   "cell_type": "code",
   "execution_count": null,
   "metadata": {},
   "outputs": [],
   "source": [
    "##########\n",
    "cutoff = 5 # Input cutoff in keV here\n",
    "##########\n",
    "plt.figure(figsize=(8,5))\n",
    "plt.semilogy(bins[:-1],hists)\n",
    "plt.xlabel('Pixel Value (ADU)')\n",
    "plt.ylabel('Counts')\n",
    "plt.axvline(cutoff,linestyle='--',label=f'{cutoff} keV') # You can add vertical lines here with this line\n",
    "#plt.axvline(13,linestyle='--',label='12 keV') # You can add vertical lines here with this line\n",
    "plt.legend(fontsize=15)\n",
    "plt.title(f'{experiment}: Run {runNumber}')\n",
    "plt.show()"
   ]
  }
 ],
 "metadata": {
  "kernelspec": {
   "display_name": "weber-group",
   "language": "python",
   "name": "weber_group"
  },
  "language_info": {
   "codemirror_mode": {
    "name": "ipython",
    "version": 3
   },
   "file_extension": ".py",
   "mimetype": "text/x-python",
   "name": "python",
   "nbconvert_exporter": "python",
   "pygments_lexer": "ipython3",
   "version": "3.9.20"
  }
 },
 "nbformat": 4,
 "nbformat_minor": 4
}
